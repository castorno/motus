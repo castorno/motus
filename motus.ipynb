{
 "cells": [
  {
   "cell_type": "code",
   "execution_count": 109,
   "id": "71223ba7",
   "metadata": {},
   "outputs": [],
   "source": [
    "import re\n",
    "import unidecode\n",
    "from selenium import webdriver\n",
    "from selenium.webdriver.chrome.service import Service\n",
    "from webdriver_manager.chrome import ChromeDriverManager\n",
    "from selenium.webdriver.common.by import By\n",
    "from selenium.webdriver.common.action_chains import ActionChains\n",
    "import time\n",
    "import random"
   ]
  },
  {
   "cell_type": "code",
   "execution_count": 60,
   "id": "1e00cf55",
   "metadata": {},
   "outputs": [],
   "source": [
    "#cleaning txt and creating list of words\n",
    "file = open(\"liste_francais.txt\",\"r\",encoding=\"iso-8859-1\")\n",
    "\n",
    "words = [[] for x in range (30)]\n",
    "for line in file:\n",
    "    word = unidecode.unidecode(line).lower()\n",
    "    word = word.replace('\\n','')\n",
    "    words[len(word)].append(word)\n",
    "#print(words)\n"
   ]
  },
  {
   "cell_type": "code",
   "execution_count": 61,
   "id": "80ab0b91",
   "metadata": {},
   "outputs": [],
   "source": [
    "def create_pattern(template):\n",
    "    new_template = \"\"\n",
    "    for letter in template:\n",
    "        if (letter != \".\"):\n",
    "            new_template += \"[^\" + letter + \"]\"\n",
    "        else:\n",
    "            new_template += letter\n",
    "    pattern = re.compile(new_template)\n",
    "    return pattern"
   ]
  },
  {
   "cell_type": "code",
   "execution_count": 62,
   "id": "34ef253c",
   "metadata": {},
   "outputs": [],
   "source": [
    "#first fonction return all words that have the correct letter at the right place\n",
    "def rule_1 (list_of_words, template):\n",
    "    #template = template.lower()\n",
    "    pattern = re.compile(template)\n",
    "    return [word for word in list_of_words if pattern.search(word) != None]"
   ]
  },
  {
   "cell_type": "code",
   "execution_count": 63,
   "id": "153c319a",
   "metadata": {},
   "outputs": [],
   "source": [
    "def yield_func_2(list_of_words,pattern,dictio):\n",
    "    for word in list_of_words:\n",
    "        bad_word = False\n",
    "        if (pattern.search(word) != None):\n",
    "            for k,v in dictio.items():\n",
    "                #print (k,v,word.count(k))\n",
    "                if (word.count(k) < v):\n",
    "                    bad_word = True\n",
    "                    break\n",
    "            if (not bad_word):\n",
    "                yield word "
   ]
  },
  {
   "cell_type": "code",
   "execution_count": 73,
   "id": "fbc1ec7f",
   "metadata": {},
   "outputs": [],
   "source": [
    "#second fonction return all ords that obey the following rule\n",
    "#good letter mean the letter is s in the word for at least the number of apparition in good good_letter + perfect_letter\n",
    "#also mean it is currently at the wrong places \n",
    "def rule_2 (list_of_words, template,dictio):\n",
    "    for letter in template:\n",
    "        if (letter in dictio and letter != \".\"):\n",
    "            dictio[letter] += 1\n",
    "        elif (letter != \".\"):\n",
    "            dictio[letter] = 1    \n",
    "    pattern = create_pattern(template)      \n",
    "\n",
    "    return list(yield_func_2(list_of_words,pattern,dictio))"
   ]
  },
  {
   "cell_type": "code",
   "execution_count": 65,
   "id": "85038eb8",
   "metadata": {},
   "outputs": [],
   "source": [
    "def yield_func_3(list_of_words, pattern,dictio):\n",
    "    for word in list_of_words:\n",
    "        bad_word = False\n",
    "        if (pattern.search(word) != None):\n",
    "            for k,v in dictio.items():\n",
    "                #print (k,v,word.count(k))\n",
    "                if (word.count(k) > v):\n",
    "                    bad_word = True\n",
    "                    break\n",
    "            if (not bad_word):\n",
    "                yield word"
   ]
  },
  {
   "cell_type": "code",
   "execution_count": 66,
   "id": "b59de83f",
   "metadata": {},
   "outputs": [],
   "source": [
    "#third fonction return all words that obey the following rule\n",
    "#bad letter mean the letter is in the word for exactly the number of apparition in good_letter + perfect_letter\n",
    "#can be 0\n",
    "def rule_3 (list_of_words, template,dictio):\n",
    "    for letter in template:\n",
    "        if (not letter in dictio and letter != \".\"):\n",
    "            dictio[letter] = 0     \n",
    "    pattern = create_pattern(template)\n",
    "    return list(yield_func_3(list_of_words,pattern, dictio))\n"
   ]
  },
  {
   "cell_type": "code",
   "execution_count": 67,
   "id": "970393b6",
   "metadata": {},
   "outputs": [],
   "source": [
    "#function that we need in the loop to solve the motus\n",
    "def solve_motus(perfect_letter, good_letter, bad_letter, list_of_words):\n",
    "    dictio = {}\n",
    "    for letter in perfect_letter:\n",
    "        if (letter in dictio and letter != \".\"):\n",
    "            dictio[letter] += 1\n",
    "        elif (letter != \".\"):\n",
    "            dictio[letter] = 1\n",
    "    if (len(perfect_letter) == len(good_letter) == len(bad_letter)):\n",
    "        new_list = rule_1(list_of_words, perfect_letter)\n",
    "        new_list = rule_2(new_list,good_letter,dictio)\n",
    "        new_list = rule_3(new_list,bad_letter,dictio)\n",
    "        return new_list\n",
    "\n",
    "    else:\n",
    "        print(\"input not same length\")\n",
    "        return False"
   ]
  },
  {
   "cell_type": "code",
   "execution_count": 150,
   "id": "aef53b15",
   "metadata": {},
   "outputs": [],
   "source": [
    "#function that select a random answer in the correct list and write it on the website\n",
    "def send_proposition(list_of_words,driver):\n",
    "    #proposition = list_of_words[random.randint(0, len(list_of_words)-1)]\n",
    "    proposition = list_of_words[0]\n",
    "    for word in list_of_words[1:]:\n",
    "        if (len(set(word)) > len(set(proposition))):\n",
    "            proposition = word   \n",
    "    written_letter = 1\n",
    "    for letter in proposition[1:]:\n",
    "        time.sleep(1)\n",
    "        key = driver.find_element(By.CSS_SELECTOR, \"[data-lettre=\" + letter.upper() + \"]\")\n",
    "        if (key):\n",
    "            key.click()\n",
    "            written_letter +=1\n",
    "    if written_letter == len_word:\n",
    "        key = driver.find_element(By.CSS_SELECTOR, \"[data-lettre=_entree]\")\n",
    "        if (key):\n",
    "            key.click()\n",
    "    else:\n",
    "        print(\"error during writting process\")\n",
    "    time.sleep(4)"
   ]
  },
  {
   "cell_type": "code",
   "execution_count": 151,
   "id": "b50759d8",
   "metadata": {},
   "outputs": [],
   "source": [
    "#main loop range max is always 6 based on the website template\n",
    "def do_loop(driver,list_of_words,len_word):\n",
    "    for x in range (1,6):\n",
    "        number_perfect_letter = 0\n",
    "        letter_cases = driver.find_elements(By.XPATH, \"//*[@id='grille']/table/tr[\"+ str(x) + \"]/td\")\n",
    "        good_letter = \"\"\n",
    "        bad_letter = \"\"\n",
    "        perfect_letter = \"\"\n",
    "        list_of_words = words[len(letter_cases)]\n",
    "        for letter in letter_cases:\n",
    "            #print(letter.get_attribute('class'))\n",
    "            if (letter.get_attribute('class') == \"bien-place resultat\"):\n",
    "                good_letter += \".\"\n",
    "                bad_letter += \".\"\n",
    "                perfect_letter += letter.get_attribute('innerHTML').lower()\n",
    "                number_perfect_letter += 1\n",
    "            elif (letter.get_attribute('class') == \"mal-place resultat\"):\n",
    "                good_letter += letter.get_attribute('innerHTML').lower()\n",
    "                bad_letter += \".\"\n",
    "                perfect_letter += \".\"\n",
    "            elif(letter.get_attribute('class') == \"non-trouve resultat\"):\n",
    "                good_letter += \".\"\n",
    "                bad_letter += letter.get_attribute('innerHTML').lower()\n",
    "                perfect_letter += \".\"\n",
    "        #print(number_perfect_letter,len_word)\n",
    "        if(number_perfect_letter == len_word):\n",
    "            print(\"win\")\n",
    "            break\n",
    "\n",
    "\n",
    "        list_of_words = solve_motus(perfect_letter, good_letter, bad_letter, list_of_words)\n",
    "        print(list_of_words)\n",
    "\n",
    "        if (list_of_words== []):\n",
    "            print(\"no word found\")\n",
    "            break\n",
    "\n",
    "        send_proposition(list_of_words,driver)"
   ]
  },
  {
   "cell_type": "code",
   "execution_count": 152,
   "id": "295ba948",
   "metadata": {},
   "outputs": [
    {
     "name": "stderr",
     "output_type": "stream",
     "text": [
      "\n",
      "\n",
      "====== WebDriver manager ======\n",
      "Current google-chrome version is 99.0.4844\n",
      "Get LATEST chromedriver version for 99.0.4844 google-chrome\n",
      "Driver [/home/jeremie/.wdm/drivers/chromedriver/linux64/99.0.4844.51/chromedriver] found in cache\n",
      "/tmp/ipykernel_7251/3760430506.py:6: DeprecationWarning: use options instead of chrome_options\n",
      "  driver = webdriver.Chrome(service=s,chrome_options=chrome_options)\n"
     ]
    }
   ],
   "source": [
    "#selenium set up + closing pop up page on target site\n",
    "chrome_options = webdriver.ChromeOptions()\n",
    "#incognito allow multiple execution of the script\n",
    "chrome_options.add_argument(\"--incognito\")\n",
    "s=Service(ChromeDriverManager().install())\n",
    "driver = webdriver.Chrome(service=s,chrome_options=chrome_options)\n",
    "driver.maximize_window()\n",
    "driver.get('https://sutom.nocle.fr/')\n",
    "tips_windows = driver.find_element(By.ID, \"panel-fenetre-bouton-fermeture-icone\")\n",
    "if (tips_windows):\n",
    "    tips_windows.click()"
   ]
  },
  {
   "cell_type": "code",
   "execution_count": 153,
   "id": "c91d586b",
   "metadata": {},
   "outputs": [
    {
     "name": "stdout",
     "output_type": "stream",
     "text": [
      "a\n",
      "c\n",
      "h\n",
      "e\n",
      "r\n",
      "['gerant', 'girafe', 'graine', 'gramme', 'grande', 'grappe', 'grasse']\n",
      "e\n",
      "r\n",
      "a\n",
      "n\n",
      "t\n",
      "['girafe']\n",
      "i\n",
      "r\n",
      "a\n",
      "f\n",
      "e\n",
      "win\n"
     ]
    }
   ],
   "source": [
    "#first proposition\n",
    "letter_cases = driver.find_elements(By.XPATH, \"//*[@id='grille']/table/tr[1]/td\")\n",
    "len_word = len(letter_cases)\n",
    "list_of_words = words[len_word]\n",
    "good_letter = \"\"\n",
    "bad_letter = \"\"\n",
    "perfect_letter = \"\"\n",
    "for letter in letter_cases:\n",
    "    perfect_letter += letter.get_attribute('innerHTML').lower()\n",
    "    bad_letter += \".\"\n",
    "    good_letter += \".\"\n",
    "list_of_words = solve_motus(perfect_letter, good_letter, bad_letter, list_of_words)\n",
    "send_proposition(list_of_words,driver)\n",
    "\n",
    "do_loop(driver,list_of_words,len_word)"
   ]
  },
  {
   "cell_type": "code",
   "execution_count": null,
   "id": "11ff1057",
   "metadata": {},
   "outputs": [],
   "source": []
  }
 ],
 "metadata": {
  "kernelspec": {
   "display_name": "Python 3 (ipykernel)",
   "language": "python",
   "name": "python3"
  },
  "language_info": {
   "codemirror_mode": {
    "name": "ipython",
    "version": 3
   },
   "file_extension": ".py",
   "mimetype": "text/x-python",
   "name": "python",
   "nbconvert_exporter": "python",
   "pygments_lexer": "ipython3",
   "version": "3.8.10"
  }
 },
 "nbformat": 4,
 "nbformat_minor": 5
}
