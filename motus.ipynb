{
 "cells": [
  {
   "cell_type": "code",
   "execution_count": 28,
   "id": "71223ba7",
   "metadata": {},
   "outputs": [],
   "source": [
    "import re\n",
    "import unidecode"
   ]
  },
  {
   "cell_type": "code",
   "execution_count": 161,
   "id": "1e00cf55",
   "metadata": {},
   "outputs": [],
   "source": [
    "#cleaning txt and creating list of words\n",
    "file = open(\"liste_francais.txt\",\"r\",encoding=\"iso-8859-1\")\n",
    "\n",
    "words = [[] for x in range (30)]\n",
    "for line in file:\n",
    "    word = unidecode.unidecode(line).lower()\n",
    "    word = word.replace('\\n','')\n",
    "    words[len(word)].append(word)\n",
    "#print(words)\n"
   ]
  },
  {
   "cell_type": "code",
   "execution_count": 162,
   "id": "80ab0b91",
   "metadata": {},
   "outputs": [],
   "source": [
    "def create_pattern(template):\n",
    "    new_template = \"\"\n",
    "    for letter in template:\n",
    "        if (letter != \".\"):\n",
    "            new_template += \"[^\" + letter + \"]\"\n",
    "        else:\n",
    "            new_template += letter\n",
    "    pattern = re.compile(new_template)\n",
    "    return pattern"
   ]
  },
  {
   "cell_type": "code",
   "execution_count": 163,
   "id": "34ef253c",
   "metadata": {},
   "outputs": [],
   "source": [
    "#first fonction return all words that have the correct letter at the right place\n",
    "def rule_1 (list_of_words, template):\n",
    "    #template = template.lower()\n",
    "    pattern = re.compile(template)\n",
    "    return [word for word in list_of_words if pattern.search(word) != None]"
   ]
  },
  {
   "cell_type": "code",
   "execution_count": 164,
   "id": "153c319a",
   "metadata": {},
   "outputs": [],
   "source": [
    "def yield_func_2(list_of_words,pattern,dictio):\n",
    "    for word in list_of_words:\n",
    "        bad_word = False\n",
    "        if (pattern.search(word) != None):\n",
    "            for k,v in dictio.items():\n",
    "                #print (k,v,word.count(k))\n",
    "                if (word.count(k) < v):\n",
    "                    bad_word = True\n",
    "                    break\n",
    "            if (not bad_word):\n",
    "                yield word "
   ]
  },
  {
   "cell_type": "code",
   "execution_count": 165,
   "id": "fbc1ec7f",
   "metadata": {},
   "outputs": [],
   "source": [
    "#second fonction return all ords that obey the following rule\n",
    "#good letter mean the letter is s in the word for at least the number of apparition in good good_letter + perfect_letter\n",
    "#also mean it is currently at the wrong places \n",
    "def rule_2 (list_of_words, template,dictio):\n",
    "    for letter in template:\n",
    "        if (letter in dict and letter != \".\"):\n",
    "            dictio[letter] += 1\n",
    "        elif (letter != \".\"):\n",
    "            dictio[letter] = 1    \n",
    "    pattern = create_pattern(template)      \n",
    "\n",
    "    return list(yield_func_2(list_of_words,pattern,dictio))"
   ]
  },
  {
   "cell_type": "code",
   "execution_count": 166,
   "id": "85038eb8",
   "metadata": {},
   "outputs": [],
   "source": [
    "def yield_func_3(list_of_words, pattern,dictio):\n",
    "    for word in list_of_words:\n",
    "        bad_word = False\n",
    "        if (pattern.search(word) != None):\n",
    "            for k,v in dictio.items():\n",
    "                #print (k,v,word.count(k))\n",
    "                if (word.count(k) > v):\n",
    "                    bad_word = True\n",
    "                    break\n",
    "            if (not bad_word):\n",
    "                yield word"
   ]
  },
  {
   "cell_type": "code",
   "execution_count": 167,
   "id": "b59de83f",
   "metadata": {},
   "outputs": [],
   "source": [
    "#third fonction return all words that obey the following rule\n",
    "#bad letter mean the letter is in the word for exactly the number of apparition in good_letter + perfect_letter\n",
    "#can be 0\n",
    "def rule_3 (list_of_words, template,dictio):\n",
    "    for letter in template:\n",
    "        if (not letter in dictio and letter != \".\"):\n",
    "            dictio[letter] = 0     \n",
    "    pattern = create_pattern(template)\n",
    "    return list(yield_func_3(list_of_words,pattern, dictio))\n"
   ]
  },
  {
   "cell_type": "code",
   "execution_count": 170,
   "id": "970393b6",
   "metadata": {},
   "outputs": [
    {
     "name": "stdout",
     "output_type": "stream",
     "text": [
      "['cohabiter', 'courtiser', 'couturier']\n"
     ]
    }
   ],
   "source": [
    "#exemple for cabane\n",
    "#need change of dictionary no word cactus in it ...\n",
    "\n",
    "perfect_letter = \"co.......\"\n",
    "good_letter = \"....i.e.t\"\n",
    "bad_letter = \"..nd.m.n.\"\n",
    "#caakia\n",
    "\n",
    "dictio = {}\n",
    "for letter in perfect_letter:\n",
    "    if (letter in dictio and letter != \".\"):\n",
    "        dictio[letter] += 1\n",
    "    elif (letter != \".\"):\n",
    "        dictio[letter] = 1\n",
    "\n",
    "if (len(perfect_letter) == len(good_letter) == len(bad_letter)):\n",
    "    list_of_words = words[len(perfect_letter)]\n",
    "    #list_of_words = [\"cabine\"]\n",
    "    new_list = rule_1(list_of_words, perfect_letter)\n",
    "    new_list = rule_2(new_list,good_letter,dictio)\n",
    "    new_list = rule_3(new_list,bad_letter,dictio)\n",
    "    print(new_list)\n",
    "    \n",
    "else:\n",
    "    print(\"input not same length\")"
   ]
  },
  {
   "cell_type": "code",
   "execution_count": 169,
   "id": "1559435e",
   "metadata": {},
   "outputs": [
    {
     "name": "stdout",
     "output_type": "stream",
     "text": [
      "re.compile('..[^a]...')\n",
      "<re.Match object; span=(0, 6), match='cabane'>\n"
     ]
    }
   ],
   "source": [
    "pattern = re.compile(\"..[^a]...\")\n",
    "print(pattern)\n",
    "print(pattern.search(\"cabane\"))"
   ]
  },
  {
   "cell_type": "code",
   "execution_count": null,
   "id": "6a3f8d9a",
   "metadata": {},
   "outputs": [],
   "source": []
  }
 ],
 "metadata": {
  "kernelspec": {
   "display_name": "Python 3 (ipykernel)",
   "language": "python",
   "name": "python3"
  },
  "language_info": {
   "codemirror_mode": {
    "name": "ipython",
    "version": 3
   },
   "file_extension": ".py",
   "mimetype": "text/x-python",
   "name": "python",
   "nbconvert_exporter": "python",
   "pygments_lexer": "ipython3",
   "version": "3.8.10"
  }
 },
 "nbformat": 4,
 "nbformat_minor": 5
}
